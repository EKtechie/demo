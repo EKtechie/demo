{
 "cells": [
  {
   "cell_type": "markdown",
   "id": "961e96af-8450-4d45-9ace-813c18b3e3ba",
   "metadata": {},
   "source": [
    "# Data Science Tools and Ecosystem"
   ]
  },
  {
   "cell_type": "markdown",
   "id": "6bdb6adc-ddc7-432e-8209-affa6f69f496",
   "metadata": {},
   "source": [
    "Introduction\n",
    "In this notebook, Data Science Tools and Ecosystem are summarized.\n"
   ]
  },
  {
   "cell_type": "markdown",
   "id": "50fbb7f0-461e-4076-9844-5a39332c1173",
   "metadata": {},
   "source": [
    "<b>Objectives :<b/>\n",
    "\r",
    "- List Data Science Tools >- List Data Science Languages i- List Data Science Libraries /ul>"
   ]
  },
  {
   "cell_type": "raw",
   "id": "d9cab85f-09d0-4890-956b-a79ceb2a87c9",
   "metadata": {},
   "source": [
    "Data Science Languages\n",
    "\n",
    "Some of the popular languages that Data Scientists use are:\n",
    "\n",
    "1. Python\r\n",
    "2. SQL\r\n",
    "3. R\r\n",
    "4. VBA (Visual Basic for Applications)\r\n",
    "5. J\n",
    "6. JavaScript\r\n",
    "7. Java\r\n",
    "8. Scala\r\n",
    "9. SAS\r\n",
    "10. MATLABulia"
   ]
  },
  {
   "cell_type": "markdown",
   "id": "15ac4390-59b2-44e2-b028-4ce3abd00034",
   "metadata": {},
   "source": [
    "Data Science Libraries\n",
    "\n",
    "Some of the commonly used libraries used by Data Scientists include:\n",
    "\n",
    "1. Pandas\r\n",
    ".) NumPy\r",
    ".3) SciPy.\n",
    "4) Sci-Kit Lear.\r\n",
    "5) PyCar.t\r\n",
    "6) Tensorf.ow\r\n",
    "7) OpenCVtifulSoup"
   ]
  },
  {
   "cell_type": "markdown",
   "id": "58cdeb99-9787-4af3-b3e6-416401adbb0e",
   "metadata": {},
   "source": [
    "|Data Science Tools|\r\n",
    "-------------------|\r",
    "Jupyter Notebookk |Rstudios\n",
    "|IBM Watson Studio|a |"
   ]
  },
  {
   "cell_type": "code",
   "execution_count": 3,
   "id": "196198cc-2398-46ac-ac38-b6773b1866bd",
   "metadata": {},
   "outputs": [],
   "source": [
    "###Below are a few examples of evaluating arithmetic expressions in Python"
   ]
  },
  {
   "cell_type": "code",
   "execution_count": 1,
   "id": "b1dc71b6-6379-4a8a-bb3f-b0fa2c4211c5",
   "metadata": {},
   "outputs": [
    {
     "data": {
      "text/plain": [
       "150"
      ]
     },
     "execution_count": 1,
     "metadata": {},
     "output_type": "execute_result"
    }
   ],
   "source": [
    "10*(8+7)"
   ]
  },
  {
   "cell_type": "code",
   "execution_count": 2,
   "id": "c4ecff00-a712-4e85-99e9-888d723c84d2",
   "metadata": {},
   "outputs": [
    {
     "name": "stdout",
     "output_type": "stream",
     "text": [
      "Hours= 3\n"
     ]
    }
   ],
   "source": [
    "'This will convert 200 minutes to hours by diving by 60'\n",
    "min=200\n",
    "h=min//60\n",
    "print(\"Hours=\",h)"
   ]
  },
  {
   "cell_type": "markdown",
   "id": "e6793936-b451-458b-b7d4-99e09dd3e78d",
   "metadata": {},
   "source": [
    "## Author\n",
    "\n",
    "Eswarakumar J"
   ]
  }
 ],
 "metadata": {
  "kernelspec": {
   "display_name": "Python 3 (ipykernel)",
   "language": "python",
   "name": "python3"
  },
  "language_info": {
   "codemirror_mode": {
    "name": "ipython",
    "version": 3
   },
   "file_extension": ".py",
   "mimetype": "text/x-python",
   "name": "python",
   "nbconvert_exporter": "python",
   "pygments_lexer": "ipython3",
   "version": "3.11.4"
  }
 },
 "nbformat": 4,
 "nbformat_minor": 5
}
